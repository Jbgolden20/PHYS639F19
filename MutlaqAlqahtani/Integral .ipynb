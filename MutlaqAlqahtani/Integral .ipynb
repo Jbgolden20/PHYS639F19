{
 "cells": [
  {
   "cell_type": "code",
   "execution_count": 1,
   "metadata": {},
   "outputs": [
    {
     "name": "stdout",
     "output_type": "stream",
     "text": [
      "the obtained result is  1.9999999999999996\n"
     ]
    }
   ],
   "source": [
    "import numpy as np\n",
    "x1=0\n",
    "x2=2\n",
    "x=np.linspace(x1,x2,1001)\n",
    "dx=(x2-x1)/(1000)\n",
    "f=x\n",
    "\n",
    "integral=0\n",
    "for i in range(0,1000):\n",
    "    integral+=(f[i]+f[i+1])/2*dx\n",
    "print(\"the obtained result is \",integral)\n",
    "# here the program takes the averege between two pionts x1 and x2 and divide it by 1000 to evalute the integral\n",
    "# by finding the area of two adjacent pionts mu"
   ]
  }
 ],
 "metadata": {
  "kernelspec": {
   "display_name": "Python 3",
   "language": "python",
   "name": "python3"
  },
  "language_info": {
   "codemirror_mode": {
    "name": "ipython",
    "version": 3
   },
   "file_extension": ".py",
   "mimetype": "text/x-python",
   "name": "python",
   "nbconvert_exporter": "python",
   "pygments_lexer": "ipython3",
   "version": "3.7.3"
  }
 },
 "nbformat": 4,
 "nbformat_minor": 4
}
